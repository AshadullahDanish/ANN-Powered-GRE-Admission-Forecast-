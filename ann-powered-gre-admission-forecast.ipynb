{
 "cells": [
  {
   "cell_type": "code",
   "execution_count": 1,
   "id": "39e447ec",
   "metadata": {
    "_cell_guid": "b1076dfc-b9ad-4769-8c92-a6c4dae69d19",
    "_uuid": "8f2839f25d086af736a60e9eeb907d3b93b6e0e5",
    "execution": {
     "iopub.execute_input": "2024-02-27T14:21:38.284099Z",
     "iopub.status.busy": "2024-02-27T14:21:38.283694Z",
     "iopub.status.idle": "2024-02-27T14:21:39.324363Z",
     "shell.execute_reply": "2024-02-27T14:21:39.321601Z"
    },
    "papermill": {
     "duration": 1.055353,
     "end_time": "2024-02-27T14:21:39.328521",
     "exception": false,
     "start_time": "2024-02-27T14:21:38.273168",
     "status": "completed"
    },
    "tags": []
   },
   "outputs": [
    {
     "name": "stdout",
     "output_type": "stream",
     "text": [
      "/kaggle/input/graduate-admissions/Admission_Predict.csv\n",
      "/kaggle/input/graduate-admissions/Admission_Predict_Ver1.1.csv\n"
     ]
    }
   ],
   "source": [
    "# This Python 3 environment comes with many helpful analytics libraries installed\n",
    "# It is defined by the kaggle/python Docker image: https://github.com/kaggle/docker-python\n",
    "# For example, here's several helpful packages to load\n",
    "\n",
    "import numpy as np # linear algebra\n",
    "import pandas as pd # data processing, CSV file I/O (e.g. pd.read_csv)\n",
    "\n",
    "# Input data files are available in the read-only \"../input/\" directory\n",
    "# For example, running this (by clicking run or pressing Shift+Enter) will list all files under the input directory\n",
    "\n",
    "import os\n",
    "for dirname, _, filenames in os.walk('/kaggle/input'):\n",
    "    for filename in filenames:\n",
    "        print(os.path.join(dirname, filename))\n",
    "\n",
    "# You can write up to 20GB to the current directory (/kaggle/working/) that gets preserved as output when you create a version using \"Save & Run All\" \n",
    "# You can also write temporary files to /kaggle/temp/, but they won't be saved outside of the current session"
   ]
  },
  {
   "cell_type": "code",
   "execution_count": 2,
   "id": "49f8ad41",
   "metadata": {
    "execution": {
     "iopub.execute_input": "2024-02-27T14:21:39.346967Z",
     "iopub.status.busy": "2024-02-27T14:21:39.346323Z",
     "iopub.status.idle": "2024-02-27T14:21:39.366934Z",
     "shell.execute_reply": "2024-02-27T14:21:39.365426Z"
    },
    "papermill": {
     "duration": 0.033829,
     "end_time": "2024-02-27T14:21:39.370139",
     "exception": false,
     "start_time": "2024-02-27T14:21:39.336310",
     "status": "completed"
    },
    "tags": []
   },
   "outputs": [],
   "source": [
    "df = pd.read_csv('/kaggle/input/graduate-admissions/Admission_Predict_Ver1.1.csv')"
   ]
  },
  {
   "cell_type": "code",
   "execution_count": 3,
   "id": "6a6f988b",
   "metadata": {
    "execution": {
     "iopub.execute_input": "2024-02-27T14:21:39.386586Z",
     "iopub.status.busy": "2024-02-27T14:21:39.386144Z",
     "iopub.status.idle": "2024-02-27T14:21:39.413912Z",
     "shell.execute_reply": "2024-02-27T14:21:39.412494Z"
    },
    "papermill": {
     "duration": 0.039443,
     "end_time": "2024-02-27T14:21:39.416876",
     "exception": false,
     "start_time": "2024-02-27T14:21:39.377433",
     "status": "completed"
    },
    "tags": []
   },
   "outputs": [
    {
     "data": {
      "text/html": [
       "<div>\n",
       "<style scoped>\n",
       "    .dataframe tbody tr th:only-of-type {\n",
       "        vertical-align: middle;\n",
       "    }\n",
       "\n",
       "    .dataframe tbody tr th {\n",
       "        vertical-align: top;\n",
       "    }\n",
       "\n",
       "    .dataframe thead th {\n",
       "        text-align: right;\n",
       "    }\n",
       "</style>\n",
       "<table border=\"1\" class=\"dataframe\">\n",
       "  <thead>\n",
       "    <tr style=\"text-align: right;\">\n",
       "      <th></th>\n",
       "      <th>Serial No.</th>\n",
       "      <th>GRE Score</th>\n",
       "      <th>TOEFL Score</th>\n",
       "      <th>University Rating</th>\n",
       "      <th>SOP</th>\n",
       "      <th>LOR</th>\n",
       "      <th>CGPA</th>\n",
       "      <th>Research</th>\n",
       "      <th>Chance of Admit</th>\n",
       "    </tr>\n",
       "  </thead>\n",
       "  <tbody>\n",
       "    <tr>\n",
       "      <th>0</th>\n",
       "      <td>1</td>\n",
       "      <td>337</td>\n",
       "      <td>118</td>\n",
       "      <td>4</td>\n",
       "      <td>4.5</td>\n",
       "      <td>4.5</td>\n",
       "      <td>9.65</td>\n",
       "      <td>1</td>\n",
       "      <td>0.92</td>\n",
       "    </tr>\n",
       "    <tr>\n",
       "      <th>1</th>\n",
       "      <td>2</td>\n",
       "      <td>324</td>\n",
       "      <td>107</td>\n",
       "      <td>4</td>\n",
       "      <td>4.0</td>\n",
       "      <td>4.5</td>\n",
       "      <td>8.87</td>\n",
       "      <td>1</td>\n",
       "      <td>0.76</td>\n",
       "    </tr>\n",
       "    <tr>\n",
       "      <th>2</th>\n",
       "      <td>3</td>\n",
       "      <td>316</td>\n",
       "      <td>104</td>\n",
       "      <td>3</td>\n",
       "      <td>3.0</td>\n",
       "      <td>3.5</td>\n",
       "      <td>8.00</td>\n",
       "      <td>1</td>\n",
       "      <td>0.72</td>\n",
       "    </tr>\n",
       "    <tr>\n",
       "      <th>3</th>\n",
       "      <td>4</td>\n",
       "      <td>322</td>\n",
       "      <td>110</td>\n",
       "      <td>3</td>\n",
       "      <td>3.5</td>\n",
       "      <td>2.5</td>\n",
       "      <td>8.67</td>\n",
       "      <td>1</td>\n",
       "      <td>0.80</td>\n",
       "    </tr>\n",
       "    <tr>\n",
       "      <th>4</th>\n",
       "      <td>5</td>\n",
       "      <td>314</td>\n",
       "      <td>103</td>\n",
       "      <td>2</td>\n",
       "      <td>2.0</td>\n",
       "      <td>3.0</td>\n",
       "      <td>8.21</td>\n",
       "      <td>0</td>\n",
       "      <td>0.65</td>\n",
       "    </tr>\n",
       "  </tbody>\n",
       "</table>\n",
       "</div>"
      ],
      "text/plain": [
       "   Serial No.  GRE Score  TOEFL Score  University Rating  SOP  LOR   CGPA  \\\n",
       "0           1        337          118                  4  4.5   4.5  9.65   \n",
       "1           2        324          107                  4  4.0   4.5  8.87   \n",
       "2           3        316          104                  3  3.0   3.5  8.00   \n",
       "3           4        322          110                  3  3.5   2.5  8.67   \n",
       "4           5        314          103                  2  2.0   3.0  8.21   \n",
       "\n",
       "   Research  Chance of Admit   \n",
       "0         1              0.92  \n",
       "1         1              0.76  \n",
       "2         1              0.72  \n",
       "3         1              0.80  \n",
       "4         0              0.65  "
      ]
     },
     "execution_count": 3,
     "metadata": {},
     "output_type": "execute_result"
    }
   ],
   "source": [
    "df.head()"
   ]
  },
  {
   "cell_type": "code",
   "execution_count": 4,
   "id": "c29343b3",
   "metadata": {
    "execution": {
     "iopub.execute_input": "2024-02-27T14:21:39.433594Z",
     "iopub.status.busy": "2024-02-27T14:21:39.432219Z",
     "iopub.status.idle": "2024-02-27T14:21:39.439710Z",
     "shell.execute_reply": "2024-02-27T14:21:39.438449Z"
    },
    "papermill": {
     "duration": 0.018056,
     "end_time": "2024-02-27T14:21:39.441963",
     "exception": false,
     "start_time": "2024-02-27T14:21:39.423907",
     "status": "completed"
    },
    "tags": []
   },
   "outputs": [
    {
     "data": {
      "text/plain": [
       "(500, 9)"
      ]
     },
     "execution_count": 4,
     "metadata": {},
     "output_type": "execute_result"
    }
   ],
   "source": [
    "df.shape"
   ]
  },
  {
   "cell_type": "code",
   "execution_count": 5,
   "id": "1f753a79",
   "metadata": {
    "execution": {
     "iopub.execute_input": "2024-02-27T14:21:39.458731Z",
     "iopub.status.busy": "2024-02-27T14:21:39.457288Z",
     "iopub.status.idle": "2024-02-27T14:21:39.502674Z",
     "shell.execute_reply": "2024-02-27T14:21:39.501725Z"
    },
    "papermill": {
     "duration": 0.055914,
     "end_time": "2024-02-27T14:21:39.504756",
     "exception": false,
     "start_time": "2024-02-27T14:21:39.448842",
     "status": "completed"
    },
    "tags": []
   },
   "outputs": [
    {
     "data": {
      "text/html": [
       "<div>\n",
       "<style scoped>\n",
       "    .dataframe tbody tr th:only-of-type {\n",
       "        vertical-align: middle;\n",
       "    }\n",
       "\n",
       "    .dataframe tbody tr th {\n",
       "        vertical-align: top;\n",
       "    }\n",
       "\n",
       "    .dataframe thead th {\n",
       "        text-align: right;\n",
       "    }\n",
       "</style>\n",
       "<table border=\"1\" class=\"dataframe\">\n",
       "  <thead>\n",
       "    <tr style=\"text-align: right;\">\n",
       "      <th></th>\n",
       "      <th>Serial No.</th>\n",
       "      <th>GRE Score</th>\n",
       "      <th>TOEFL Score</th>\n",
       "      <th>University Rating</th>\n",
       "      <th>SOP</th>\n",
       "      <th>LOR</th>\n",
       "      <th>CGPA</th>\n",
       "      <th>Research</th>\n",
       "      <th>Chance of Admit</th>\n",
       "    </tr>\n",
       "  </thead>\n",
       "  <tbody>\n",
       "    <tr>\n",
       "      <th>count</th>\n",
       "      <td>500.000000</td>\n",
       "      <td>500.000000</td>\n",
       "      <td>500.000000</td>\n",
       "      <td>500.000000</td>\n",
       "      <td>500.000000</td>\n",
       "      <td>500.00000</td>\n",
       "      <td>500.000000</td>\n",
       "      <td>500.000000</td>\n",
       "      <td>500.00000</td>\n",
       "    </tr>\n",
       "    <tr>\n",
       "      <th>mean</th>\n",
       "      <td>250.500000</td>\n",
       "      <td>316.472000</td>\n",
       "      <td>107.192000</td>\n",
       "      <td>3.114000</td>\n",
       "      <td>3.374000</td>\n",
       "      <td>3.48400</td>\n",
       "      <td>8.576440</td>\n",
       "      <td>0.560000</td>\n",
       "      <td>0.72174</td>\n",
       "    </tr>\n",
       "    <tr>\n",
       "      <th>std</th>\n",
       "      <td>144.481833</td>\n",
       "      <td>11.295148</td>\n",
       "      <td>6.081868</td>\n",
       "      <td>1.143512</td>\n",
       "      <td>0.991004</td>\n",
       "      <td>0.92545</td>\n",
       "      <td>0.604813</td>\n",
       "      <td>0.496884</td>\n",
       "      <td>0.14114</td>\n",
       "    </tr>\n",
       "    <tr>\n",
       "      <th>min</th>\n",
       "      <td>1.000000</td>\n",
       "      <td>290.000000</td>\n",
       "      <td>92.000000</td>\n",
       "      <td>1.000000</td>\n",
       "      <td>1.000000</td>\n",
       "      <td>1.00000</td>\n",
       "      <td>6.800000</td>\n",
       "      <td>0.000000</td>\n",
       "      <td>0.34000</td>\n",
       "    </tr>\n",
       "    <tr>\n",
       "      <th>25%</th>\n",
       "      <td>125.750000</td>\n",
       "      <td>308.000000</td>\n",
       "      <td>103.000000</td>\n",
       "      <td>2.000000</td>\n",
       "      <td>2.500000</td>\n",
       "      <td>3.00000</td>\n",
       "      <td>8.127500</td>\n",
       "      <td>0.000000</td>\n",
       "      <td>0.63000</td>\n",
       "    </tr>\n",
       "    <tr>\n",
       "      <th>50%</th>\n",
       "      <td>250.500000</td>\n",
       "      <td>317.000000</td>\n",
       "      <td>107.000000</td>\n",
       "      <td>3.000000</td>\n",
       "      <td>3.500000</td>\n",
       "      <td>3.50000</td>\n",
       "      <td>8.560000</td>\n",
       "      <td>1.000000</td>\n",
       "      <td>0.72000</td>\n",
       "    </tr>\n",
       "    <tr>\n",
       "      <th>75%</th>\n",
       "      <td>375.250000</td>\n",
       "      <td>325.000000</td>\n",
       "      <td>112.000000</td>\n",
       "      <td>4.000000</td>\n",
       "      <td>4.000000</td>\n",
       "      <td>4.00000</td>\n",
       "      <td>9.040000</td>\n",
       "      <td>1.000000</td>\n",
       "      <td>0.82000</td>\n",
       "    </tr>\n",
       "    <tr>\n",
       "      <th>max</th>\n",
       "      <td>500.000000</td>\n",
       "      <td>340.000000</td>\n",
       "      <td>120.000000</td>\n",
       "      <td>5.000000</td>\n",
       "      <td>5.000000</td>\n",
       "      <td>5.00000</td>\n",
       "      <td>9.920000</td>\n",
       "      <td>1.000000</td>\n",
       "      <td>0.97000</td>\n",
       "    </tr>\n",
       "  </tbody>\n",
       "</table>\n",
       "</div>"
      ],
      "text/plain": [
       "       Serial No.   GRE Score  TOEFL Score  University Rating         SOP  \\\n",
       "count  500.000000  500.000000   500.000000         500.000000  500.000000   \n",
       "mean   250.500000  316.472000   107.192000           3.114000    3.374000   \n",
       "std    144.481833   11.295148     6.081868           1.143512    0.991004   \n",
       "min      1.000000  290.000000    92.000000           1.000000    1.000000   \n",
       "25%    125.750000  308.000000   103.000000           2.000000    2.500000   \n",
       "50%    250.500000  317.000000   107.000000           3.000000    3.500000   \n",
       "75%    375.250000  325.000000   112.000000           4.000000    4.000000   \n",
       "max    500.000000  340.000000   120.000000           5.000000    5.000000   \n",
       "\n",
       "            LOR         CGPA    Research  Chance of Admit   \n",
       "count  500.00000  500.000000  500.000000         500.00000  \n",
       "mean     3.48400    8.576440    0.560000           0.72174  \n",
       "std      0.92545    0.604813    0.496884           0.14114  \n",
       "min      1.00000    6.800000    0.000000           0.34000  \n",
       "25%      3.00000    8.127500    0.000000           0.63000  \n",
       "50%      3.50000    8.560000    1.000000           0.72000  \n",
       "75%      4.00000    9.040000    1.000000           0.82000  \n",
       "max      5.00000    9.920000    1.000000           0.97000  "
      ]
     },
     "execution_count": 5,
     "metadata": {},
     "output_type": "execute_result"
    }
   ],
   "source": [
    "df.describe()"
   ]
  },
  {
   "cell_type": "code",
   "execution_count": 6,
   "id": "e9789f77",
   "metadata": {
    "execution": {
     "iopub.execute_input": "2024-02-27T14:21:39.521999Z",
     "iopub.status.busy": "2024-02-27T14:21:39.521215Z",
     "iopub.status.idle": "2024-02-27T14:21:39.545097Z",
     "shell.execute_reply": "2024-02-27T14:21:39.543863Z"
    },
    "papermill": {
     "duration": 0.035877,
     "end_time": "2024-02-27T14:21:39.547741",
     "exception": false,
     "start_time": "2024-02-27T14:21:39.511864",
     "status": "completed"
    },
    "tags": []
   },
   "outputs": [
    {
     "name": "stdout",
     "output_type": "stream",
     "text": [
      "<class 'pandas.core.frame.DataFrame'>\n",
      "RangeIndex: 500 entries, 0 to 499\n",
      "Data columns (total 9 columns):\n",
      " #   Column             Non-Null Count  Dtype  \n",
      "---  ------             --------------  -----  \n",
      " 0   Serial No.         500 non-null    int64  \n",
      " 1   GRE Score          500 non-null    int64  \n",
      " 2   TOEFL Score        500 non-null    int64  \n",
      " 3   University Rating  500 non-null    int64  \n",
      " 4   SOP                500 non-null    float64\n",
      " 5   LOR                500 non-null    float64\n",
      " 6   CGPA               500 non-null    float64\n",
      " 7   Research           500 non-null    int64  \n",
      " 8   Chance of Admit    500 non-null    float64\n",
      "dtypes: float64(4), int64(5)\n",
      "memory usage: 35.3 KB\n"
     ]
    }
   ],
   "source": [
    "df.info()"
   ]
  },
  {
   "cell_type": "code",
   "execution_count": 7,
   "id": "ace8302f",
   "metadata": {
    "execution": {
     "iopub.execute_input": "2024-02-27T14:21:39.564955Z",
     "iopub.status.busy": "2024-02-27T14:21:39.564119Z",
     "iopub.status.idle": "2024-02-27T14:21:39.573891Z",
     "shell.execute_reply": "2024-02-27T14:21:39.572549Z"
    },
    "papermill": {
     "duration": 0.02096,
     "end_time": "2024-02-27T14:21:39.576224",
     "exception": false,
     "start_time": "2024-02-27T14:21:39.555264",
     "status": "completed"
    },
    "tags": []
   },
   "outputs": [
    {
     "data": {
      "text/plain": [
       "Serial No.           0\n",
       "GRE Score            0\n",
       "TOEFL Score          0\n",
       "University Rating    0\n",
       "SOP                  0\n",
       "LOR                  0\n",
       "CGPA                 0\n",
       "Research             0\n",
       "Chance of Admit      0\n",
       "dtype: int64"
      ]
     },
     "execution_count": 7,
     "metadata": {},
     "output_type": "execute_result"
    }
   ],
   "source": [
    "df.isna().sum()"
   ]
  },
  {
   "cell_type": "code",
   "execution_count": 8,
   "id": "1be338c6",
   "metadata": {
    "execution": {
     "iopub.execute_input": "2024-02-27T14:21:39.594039Z",
     "iopub.status.busy": "2024-02-27T14:21:39.593577Z",
     "iopub.status.idle": "2024-02-27T14:21:39.602238Z",
     "shell.execute_reply": "2024-02-27T14:21:39.600998Z"
    },
    "papermill": {
     "duration": 0.020809,
     "end_time": "2024-02-27T14:21:39.604373",
     "exception": false,
     "start_time": "2024-02-27T14:21:39.583564",
     "status": "completed"
    },
    "tags": []
   },
   "outputs": [
    {
     "data": {
      "text/plain": [
       "Index(['Serial No.', 'GRE Score', 'TOEFL Score', 'University Rating', 'SOP',\n",
       "       'LOR ', 'CGPA', 'Research', 'Chance of Admit '],\n",
       "      dtype='object')"
      ]
     },
     "execution_count": 8,
     "metadata": {},
     "output_type": "execute_result"
    }
   ],
   "source": [
    "df.columns"
   ]
  },
  {
   "cell_type": "code",
   "execution_count": 9,
   "id": "d4fdea9b",
   "metadata": {
    "execution": {
     "iopub.execute_input": "2024-02-27T14:21:39.621351Z",
     "iopub.status.busy": "2024-02-27T14:21:39.620895Z",
     "iopub.status.idle": "2024-02-27T14:21:39.632021Z",
     "shell.execute_reply": "2024-02-27T14:21:39.631018Z"
    },
    "papermill": {
     "duration": 0.022772,
     "end_time": "2024-02-27T14:21:39.634505",
     "exception": false,
     "start_time": "2024-02-27T14:21:39.611733",
     "status": "completed"
    },
    "tags": []
   },
   "outputs": [
    {
     "data": {
      "text/plain": [
       "0"
      ]
     },
     "execution_count": 9,
     "metadata": {},
     "output_type": "execute_result"
    }
   ],
   "source": [
    "df.duplicated().sum()"
   ]
  },
  {
   "cell_type": "code",
   "execution_count": 10,
   "id": "97e15d32",
   "metadata": {
    "execution": {
     "iopub.execute_input": "2024-02-27T14:21:39.652962Z",
     "iopub.status.busy": "2024-02-27T14:21:39.652560Z",
     "iopub.status.idle": "2024-02-27T14:21:39.661213Z",
     "shell.execute_reply": "2024-02-27T14:21:39.659541Z"
    },
    "papermill": {
     "duration": 0.020699,
     "end_time": "2024-02-27T14:21:39.663620",
     "exception": false,
     "start_time": "2024-02-27T14:21:39.642921",
     "status": "completed"
    },
    "tags": []
   },
   "outputs": [],
   "source": [
    "df.drop(columns = ['Serial No.'],inplace=True)"
   ]
  },
  {
   "cell_type": "code",
   "execution_count": 11,
   "id": "20492cc0",
   "metadata": {
    "execution": {
     "iopub.execute_input": "2024-02-27T14:21:39.682855Z",
     "iopub.status.busy": "2024-02-27T14:21:39.682373Z",
     "iopub.status.idle": "2024-02-27T14:21:39.701500Z",
     "shell.execute_reply": "2024-02-27T14:21:39.700080Z"
    },
    "papermill": {
     "duration": 0.031684,
     "end_time": "2024-02-27T14:21:39.704039",
     "exception": false,
     "start_time": "2024-02-27T14:21:39.672355",
     "status": "completed"
    },
    "tags": []
   },
   "outputs": [
    {
     "data": {
      "text/html": [
       "<div>\n",
       "<style scoped>\n",
       "    .dataframe tbody tr th:only-of-type {\n",
       "        vertical-align: middle;\n",
       "    }\n",
       "\n",
       "    .dataframe tbody tr th {\n",
       "        vertical-align: top;\n",
       "    }\n",
       "\n",
       "    .dataframe thead th {\n",
       "        text-align: right;\n",
       "    }\n",
       "</style>\n",
       "<table border=\"1\" class=\"dataframe\">\n",
       "  <thead>\n",
       "    <tr style=\"text-align: right;\">\n",
       "      <th></th>\n",
       "      <th>GRE Score</th>\n",
       "      <th>TOEFL Score</th>\n",
       "      <th>University Rating</th>\n",
       "      <th>SOP</th>\n",
       "      <th>LOR</th>\n",
       "      <th>CGPA</th>\n",
       "      <th>Research</th>\n",
       "      <th>Chance of Admit</th>\n",
       "    </tr>\n",
       "  </thead>\n",
       "  <tbody>\n",
       "    <tr>\n",
       "      <th>0</th>\n",
       "      <td>337</td>\n",
       "      <td>118</td>\n",
       "      <td>4</td>\n",
       "      <td>4.5</td>\n",
       "      <td>4.5</td>\n",
       "      <td>9.65</td>\n",
       "      <td>1</td>\n",
       "      <td>0.92</td>\n",
       "    </tr>\n",
       "    <tr>\n",
       "      <th>1</th>\n",
       "      <td>324</td>\n",
       "      <td>107</td>\n",
       "      <td>4</td>\n",
       "      <td>4.0</td>\n",
       "      <td>4.5</td>\n",
       "      <td>8.87</td>\n",
       "      <td>1</td>\n",
       "      <td>0.76</td>\n",
       "    </tr>\n",
       "    <tr>\n",
       "      <th>2</th>\n",
       "      <td>316</td>\n",
       "      <td>104</td>\n",
       "      <td>3</td>\n",
       "      <td>3.0</td>\n",
       "      <td>3.5</td>\n",
       "      <td>8.00</td>\n",
       "      <td>1</td>\n",
       "      <td>0.72</td>\n",
       "    </tr>\n",
       "    <tr>\n",
       "      <th>3</th>\n",
       "      <td>322</td>\n",
       "      <td>110</td>\n",
       "      <td>3</td>\n",
       "      <td>3.5</td>\n",
       "      <td>2.5</td>\n",
       "      <td>8.67</td>\n",
       "      <td>1</td>\n",
       "      <td>0.80</td>\n",
       "    </tr>\n",
       "    <tr>\n",
       "      <th>4</th>\n",
       "      <td>314</td>\n",
       "      <td>103</td>\n",
       "      <td>2</td>\n",
       "      <td>2.0</td>\n",
       "      <td>3.0</td>\n",
       "      <td>8.21</td>\n",
       "      <td>0</td>\n",
       "      <td>0.65</td>\n",
       "    </tr>\n",
       "    <tr>\n",
       "      <th>...</th>\n",
       "      <td>...</td>\n",
       "      <td>...</td>\n",
       "      <td>...</td>\n",
       "      <td>...</td>\n",
       "      <td>...</td>\n",
       "      <td>...</td>\n",
       "      <td>...</td>\n",
       "      <td>...</td>\n",
       "    </tr>\n",
       "    <tr>\n",
       "      <th>495</th>\n",
       "      <td>332</td>\n",
       "      <td>108</td>\n",
       "      <td>5</td>\n",
       "      <td>4.5</td>\n",
       "      <td>4.0</td>\n",
       "      <td>9.02</td>\n",
       "      <td>1</td>\n",
       "      <td>0.87</td>\n",
       "    </tr>\n",
       "    <tr>\n",
       "      <th>496</th>\n",
       "      <td>337</td>\n",
       "      <td>117</td>\n",
       "      <td>5</td>\n",
       "      <td>5.0</td>\n",
       "      <td>5.0</td>\n",
       "      <td>9.87</td>\n",
       "      <td>1</td>\n",
       "      <td>0.96</td>\n",
       "    </tr>\n",
       "    <tr>\n",
       "      <th>497</th>\n",
       "      <td>330</td>\n",
       "      <td>120</td>\n",
       "      <td>5</td>\n",
       "      <td>4.5</td>\n",
       "      <td>5.0</td>\n",
       "      <td>9.56</td>\n",
       "      <td>1</td>\n",
       "      <td>0.93</td>\n",
       "    </tr>\n",
       "    <tr>\n",
       "      <th>498</th>\n",
       "      <td>312</td>\n",
       "      <td>103</td>\n",
       "      <td>4</td>\n",
       "      <td>4.0</td>\n",
       "      <td>5.0</td>\n",
       "      <td>8.43</td>\n",
       "      <td>0</td>\n",
       "      <td>0.73</td>\n",
       "    </tr>\n",
       "    <tr>\n",
       "      <th>499</th>\n",
       "      <td>327</td>\n",
       "      <td>113</td>\n",
       "      <td>4</td>\n",
       "      <td>4.5</td>\n",
       "      <td>4.5</td>\n",
       "      <td>9.04</td>\n",
       "      <td>0</td>\n",
       "      <td>0.84</td>\n",
       "    </tr>\n",
       "  </tbody>\n",
       "</table>\n",
       "<p>500 rows × 8 columns</p>\n",
       "</div>"
      ],
      "text/plain": [
       "     GRE Score  TOEFL Score  University Rating  SOP  LOR   CGPA  Research  \\\n",
       "0          337          118                  4  4.5   4.5  9.65         1   \n",
       "1          324          107                  4  4.0   4.5  8.87         1   \n",
       "2          316          104                  3  3.0   3.5  8.00         1   \n",
       "3          322          110                  3  3.5   2.5  8.67         1   \n",
       "4          314          103                  2  2.0   3.0  8.21         0   \n",
       "..         ...          ...                ...  ...   ...   ...       ...   \n",
       "495        332          108                  5  4.5   4.0  9.02         1   \n",
       "496        337          117                  5  5.0   5.0  9.87         1   \n",
       "497        330          120                  5  4.5   5.0  9.56         1   \n",
       "498        312          103                  4  4.0   5.0  8.43         0   \n",
       "499        327          113                  4  4.5   4.5  9.04         0   \n",
       "\n",
       "     Chance of Admit   \n",
       "0                0.92  \n",
       "1                0.76  \n",
       "2                0.72  \n",
       "3                0.80  \n",
       "4                0.65  \n",
       "..                ...  \n",
       "495              0.87  \n",
       "496              0.96  \n",
       "497              0.93  \n",
       "498              0.73  \n",
       "499              0.84  \n",
       "\n",
       "[500 rows x 8 columns]"
      ]
     },
     "execution_count": 11,
     "metadata": {},
     "output_type": "execute_result"
    }
   ],
   "source": [
    "df"
   ]
  },
  {
   "cell_type": "code",
   "execution_count": 12,
   "id": "7811eac9",
   "metadata": {
    "execution": {
     "iopub.execute_input": "2024-02-27T14:21:39.723489Z",
     "iopub.status.busy": "2024-02-27T14:21:39.722720Z",
     "iopub.status.idle": "2024-02-27T14:21:39.727988Z",
     "shell.execute_reply": "2024-02-27T14:21:39.727130Z"
    },
    "papermill": {
     "duration": 0.018495,
     "end_time": "2024-02-27T14:21:39.731052",
     "exception": false,
     "start_time": "2024-02-27T14:21:39.712557",
     "status": "completed"
    },
    "tags": []
   },
   "outputs": [],
   "source": [
    "X = df.iloc[:,0:-1]\n",
    "y = df.iloc[:,-1]"
   ]
  },
  {
   "cell_type": "code",
   "execution_count": 13,
   "id": "aea27872",
   "metadata": {
    "execution": {
     "iopub.execute_input": "2024-02-27T14:21:39.751880Z",
     "iopub.status.busy": "2024-02-27T14:21:39.751286Z",
     "iopub.status.idle": "2024-02-27T14:21:39.765584Z",
     "shell.execute_reply": "2024-02-27T14:21:39.764460Z"
    },
    "papermill": {
     "duration": 0.027975,
     "end_time": "2024-02-27T14:21:39.768609",
     "exception": false,
     "start_time": "2024-02-27T14:21:39.740634",
     "status": "completed"
    },
    "tags": []
   },
   "outputs": [
    {
     "data": {
      "text/html": [
       "<div>\n",
       "<style scoped>\n",
       "    .dataframe tbody tr th:only-of-type {\n",
       "        vertical-align: middle;\n",
       "    }\n",
       "\n",
       "    .dataframe tbody tr th {\n",
       "        vertical-align: top;\n",
       "    }\n",
       "\n",
       "    .dataframe thead th {\n",
       "        text-align: right;\n",
       "    }\n",
       "</style>\n",
       "<table border=\"1\" class=\"dataframe\">\n",
       "  <thead>\n",
       "    <tr style=\"text-align: right;\">\n",
       "      <th></th>\n",
       "      <th>GRE Score</th>\n",
       "      <th>TOEFL Score</th>\n",
       "      <th>University Rating</th>\n",
       "      <th>SOP</th>\n",
       "      <th>LOR</th>\n",
       "      <th>CGPA</th>\n",
       "      <th>Research</th>\n",
       "    </tr>\n",
       "  </thead>\n",
       "  <tbody>\n",
       "    <tr>\n",
       "      <th>0</th>\n",
       "      <td>337</td>\n",
       "      <td>118</td>\n",
       "      <td>4</td>\n",
       "      <td>4.5</td>\n",
       "      <td>4.5</td>\n",
       "      <td>9.65</td>\n",
       "      <td>1</td>\n",
       "    </tr>\n",
       "    <tr>\n",
       "      <th>1</th>\n",
       "      <td>324</td>\n",
       "      <td>107</td>\n",
       "      <td>4</td>\n",
       "      <td>4.0</td>\n",
       "      <td>4.5</td>\n",
       "      <td>8.87</td>\n",
       "      <td>1</td>\n",
       "    </tr>\n",
       "    <tr>\n",
       "      <th>2</th>\n",
       "      <td>316</td>\n",
       "      <td>104</td>\n",
       "      <td>3</td>\n",
       "      <td>3.0</td>\n",
       "      <td>3.5</td>\n",
       "      <td>8.00</td>\n",
       "      <td>1</td>\n",
       "    </tr>\n",
       "    <tr>\n",
       "      <th>3</th>\n",
       "      <td>322</td>\n",
       "      <td>110</td>\n",
       "      <td>3</td>\n",
       "      <td>3.5</td>\n",
       "      <td>2.5</td>\n",
       "      <td>8.67</td>\n",
       "      <td>1</td>\n",
       "    </tr>\n",
       "    <tr>\n",
       "      <th>4</th>\n",
       "      <td>314</td>\n",
       "      <td>103</td>\n",
       "      <td>2</td>\n",
       "      <td>2.0</td>\n",
       "      <td>3.0</td>\n",
       "      <td>8.21</td>\n",
       "      <td>0</td>\n",
       "    </tr>\n",
       "    <tr>\n",
       "      <th>...</th>\n",
       "      <td>...</td>\n",
       "      <td>...</td>\n",
       "      <td>...</td>\n",
       "      <td>...</td>\n",
       "      <td>...</td>\n",
       "      <td>...</td>\n",
       "      <td>...</td>\n",
       "    </tr>\n",
       "    <tr>\n",
       "      <th>495</th>\n",
       "      <td>332</td>\n",
       "      <td>108</td>\n",
       "      <td>5</td>\n",
       "      <td>4.5</td>\n",
       "      <td>4.0</td>\n",
       "      <td>9.02</td>\n",
       "      <td>1</td>\n",
       "    </tr>\n",
       "    <tr>\n",
       "      <th>496</th>\n",
       "      <td>337</td>\n",
       "      <td>117</td>\n",
       "      <td>5</td>\n",
       "      <td>5.0</td>\n",
       "      <td>5.0</td>\n",
       "      <td>9.87</td>\n",
       "      <td>1</td>\n",
       "    </tr>\n",
       "    <tr>\n",
       "      <th>497</th>\n",
       "      <td>330</td>\n",
       "      <td>120</td>\n",
       "      <td>5</td>\n",
       "      <td>4.5</td>\n",
       "      <td>5.0</td>\n",
       "      <td>9.56</td>\n",
       "      <td>1</td>\n",
       "    </tr>\n",
       "    <tr>\n",
       "      <th>498</th>\n",
       "      <td>312</td>\n",
       "      <td>103</td>\n",
       "      <td>4</td>\n",
       "      <td>4.0</td>\n",
       "      <td>5.0</td>\n",
       "      <td>8.43</td>\n",
       "      <td>0</td>\n",
       "    </tr>\n",
       "    <tr>\n",
       "      <th>499</th>\n",
       "      <td>327</td>\n",
       "      <td>113</td>\n",
       "      <td>4</td>\n",
       "      <td>4.5</td>\n",
       "      <td>4.5</td>\n",
       "      <td>9.04</td>\n",
       "      <td>0</td>\n",
       "    </tr>\n",
       "  </tbody>\n",
       "</table>\n",
       "<p>500 rows × 7 columns</p>\n",
       "</div>"
      ],
      "text/plain": [
       "     GRE Score  TOEFL Score  University Rating  SOP  LOR   CGPA  Research\n",
       "0          337          118                  4  4.5   4.5  9.65         1\n",
       "1          324          107                  4  4.0   4.5  8.87         1\n",
       "2          316          104                  3  3.0   3.5  8.00         1\n",
       "3          322          110                  3  3.5   2.5  8.67         1\n",
       "4          314          103                  2  2.0   3.0  8.21         0\n",
       "..         ...          ...                ...  ...   ...   ...       ...\n",
       "495        332          108                  5  4.5   4.0  9.02         1\n",
       "496        337          117                  5  5.0   5.0  9.87         1\n",
       "497        330          120                  5  4.5   5.0  9.56         1\n",
       "498        312          103                  4  4.0   5.0  8.43         0\n",
       "499        327          113                  4  4.5   4.5  9.04         0\n",
       "\n",
       "[500 rows x 7 columns]"
      ]
     },
     "execution_count": 13,
     "metadata": {},
     "output_type": "execute_result"
    }
   ],
   "source": [
    "X"
   ]
  },
  {
   "cell_type": "code",
   "execution_count": 14,
   "id": "3ff95f2c",
   "metadata": {
    "execution": {
     "iopub.execute_input": "2024-02-27T14:21:39.789006Z",
     "iopub.status.busy": "2024-02-27T14:21:39.788597Z",
     "iopub.status.idle": "2024-02-27T14:21:39.797614Z",
     "shell.execute_reply": "2024-02-27T14:21:39.796555Z"
    },
    "papermill": {
     "duration": 0.022552,
     "end_time": "2024-02-27T14:21:39.800158",
     "exception": false,
     "start_time": "2024-02-27T14:21:39.777606",
     "status": "completed"
    },
    "tags": []
   },
   "outputs": [
    {
     "data": {
      "text/plain": [
       "0      0.92\n",
       "1      0.76\n",
       "2      0.72\n",
       "3      0.80\n",
       "4      0.65\n",
       "       ... \n",
       "495    0.87\n",
       "496    0.96\n",
       "497    0.93\n",
       "498    0.73\n",
       "499    0.84\n",
       "Name: Chance of Admit , Length: 500, dtype: float64"
      ]
     },
     "execution_count": 14,
     "metadata": {},
     "output_type": "execute_result"
    }
   ],
   "source": [
    "y"
   ]
  },
  {
   "cell_type": "code",
   "execution_count": 15,
   "id": "1a97d0c0",
   "metadata": {
    "execution": {
     "iopub.execute_input": "2024-02-27T14:21:39.820878Z",
     "iopub.status.busy": "2024-02-27T14:21:39.820475Z",
     "iopub.status.idle": "2024-02-27T14:21:41.419540Z",
     "shell.execute_reply": "2024-02-27T14:21:41.418046Z"
    },
    "papermill": {
     "duration": 1.613252,
     "end_time": "2024-02-27T14:21:41.422605",
     "exception": false,
     "start_time": "2024-02-27T14:21:39.809353",
     "status": "completed"
    },
    "tags": []
   },
   "outputs": [],
   "source": [
    "from sklearn.model_selection import train_test_split\n",
    "X_train,X_test,y_train,y_test = train_test_split(X,y, test_size=0.2, random_state=1)"
   ]
  },
  {
   "cell_type": "code",
   "execution_count": 16,
   "id": "3a040d41",
   "metadata": {
    "execution": {
     "iopub.execute_input": "2024-02-27T14:21:41.442698Z",
     "iopub.status.busy": "2024-02-27T14:21:41.442226Z",
     "iopub.status.idle": "2024-02-27T14:21:41.462654Z",
     "shell.execute_reply": "2024-02-27T14:21:41.461264Z"
    },
    "papermill": {
     "duration": 0.033561,
     "end_time": "2024-02-27T14:21:41.465338",
     "exception": false,
     "start_time": "2024-02-27T14:21:41.431777",
     "status": "completed"
    },
    "tags": []
   },
   "outputs": [
    {
     "data": {
      "text/html": [
       "<div>\n",
       "<style scoped>\n",
       "    .dataframe tbody tr th:only-of-type {\n",
       "        vertical-align: middle;\n",
       "    }\n",
       "\n",
       "    .dataframe tbody tr th {\n",
       "        vertical-align: top;\n",
       "    }\n",
       "\n",
       "    .dataframe thead th {\n",
       "        text-align: right;\n",
       "    }\n",
       "</style>\n",
       "<table border=\"1\" class=\"dataframe\">\n",
       "  <thead>\n",
       "    <tr style=\"text-align: right;\">\n",
       "      <th></th>\n",
       "      <th>GRE Score</th>\n",
       "      <th>TOEFL Score</th>\n",
       "      <th>University Rating</th>\n",
       "      <th>SOP</th>\n",
       "      <th>LOR</th>\n",
       "      <th>CGPA</th>\n",
       "      <th>Research</th>\n",
       "    </tr>\n",
       "  </thead>\n",
       "  <tbody>\n",
       "    <tr>\n",
       "      <th>238</th>\n",
       "      <td>310</td>\n",
       "      <td>104</td>\n",
       "      <td>3</td>\n",
       "      <td>2.0</td>\n",
       "      <td>3.5</td>\n",
       "      <td>8.37</td>\n",
       "      <td>0</td>\n",
       "    </tr>\n",
       "    <tr>\n",
       "      <th>438</th>\n",
       "      <td>318</td>\n",
       "      <td>110</td>\n",
       "      <td>1</td>\n",
       "      <td>2.5</td>\n",
       "      <td>3.5</td>\n",
       "      <td>8.54</td>\n",
       "      <td>1</td>\n",
       "    </tr>\n",
       "    <tr>\n",
       "      <th>475</th>\n",
       "      <td>300</td>\n",
       "      <td>101</td>\n",
       "      <td>3</td>\n",
       "      <td>3.5</td>\n",
       "      <td>2.5</td>\n",
       "      <td>7.88</td>\n",
       "      <td>0</td>\n",
       "    </tr>\n",
       "    <tr>\n",
       "      <th>58</th>\n",
       "      <td>300</td>\n",
       "      <td>99</td>\n",
       "      <td>1</td>\n",
       "      <td>3.0</td>\n",
       "      <td>2.0</td>\n",
       "      <td>6.80</td>\n",
       "      <td>1</td>\n",
       "    </tr>\n",
       "    <tr>\n",
       "      <th>380</th>\n",
       "      <td>322</td>\n",
       "      <td>104</td>\n",
       "      <td>3</td>\n",
       "      <td>3.5</td>\n",
       "      <td>4.0</td>\n",
       "      <td>8.84</td>\n",
       "      <td>1</td>\n",
       "    </tr>\n",
       "    <tr>\n",
       "      <th>...</th>\n",
       "      <td>...</td>\n",
       "      <td>...</td>\n",
       "      <td>...</td>\n",
       "      <td>...</td>\n",
       "      <td>...</td>\n",
       "      <td>...</td>\n",
       "      <td>...</td>\n",
       "    </tr>\n",
       "    <tr>\n",
       "      <th>255</th>\n",
       "      <td>307</td>\n",
       "      <td>110</td>\n",
       "      <td>4</td>\n",
       "      <td>4.0</td>\n",
       "      <td>4.5</td>\n",
       "      <td>8.37</td>\n",
       "      <td>0</td>\n",
       "    </tr>\n",
       "    <tr>\n",
       "      <th>72</th>\n",
       "      <td>321</td>\n",
       "      <td>111</td>\n",
       "      <td>5</td>\n",
       "      <td>5.0</td>\n",
       "      <td>5.0</td>\n",
       "      <td>9.45</td>\n",
       "      <td>1</td>\n",
       "    </tr>\n",
       "    <tr>\n",
       "      <th>396</th>\n",
       "      <td>325</td>\n",
       "      <td>107</td>\n",
       "      <td>3</td>\n",
       "      <td>3.0</td>\n",
       "      <td>3.5</td>\n",
       "      <td>9.11</td>\n",
       "      <td>1</td>\n",
       "    </tr>\n",
       "    <tr>\n",
       "      <th>235</th>\n",
       "      <td>326</td>\n",
       "      <td>111</td>\n",
       "      <td>5</td>\n",
       "      <td>4.5</td>\n",
       "      <td>4.0</td>\n",
       "      <td>9.23</td>\n",
       "      <td>1</td>\n",
       "    </tr>\n",
       "    <tr>\n",
       "      <th>37</th>\n",
       "      <td>300</td>\n",
       "      <td>105</td>\n",
       "      <td>1</td>\n",
       "      <td>1.0</td>\n",
       "      <td>2.0</td>\n",
       "      <td>7.80</td>\n",
       "      <td>0</td>\n",
       "    </tr>\n",
       "  </tbody>\n",
       "</table>\n",
       "<p>400 rows × 7 columns</p>\n",
       "</div>"
      ],
      "text/plain": [
       "     GRE Score  TOEFL Score  University Rating  SOP  LOR   CGPA  Research\n",
       "238        310          104                  3  2.0   3.5  8.37         0\n",
       "438        318          110                  1  2.5   3.5  8.54         1\n",
       "475        300          101                  3  3.5   2.5  7.88         0\n",
       "58         300           99                  1  3.0   2.0  6.80         1\n",
       "380        322          104                  3  3.5   4.0  8.84         1\n",
       "..         ...          ...                ...  ...   ...   ...       ...\n",
       "255        307          110                  4  4.0   4.5  8.37         0\n",
       "72         321          111                  5  5.0   5.0  9.45         1\n",
       "396        325          107                  3  3.0   3.5  9.11         1\n",
       "235        326          111                  5  4.5   4.0  9.23         1\n",
       "37         300          105                  1  1.0   2.0  7.80         0\n",
       "\n",
       "[400 rows x 7 columns]"
      ]
     },
     "execution_count": 16,
     "metadata": {},
     "output_type": "execute_result"
    }
   ],
   "source": [
    "X_train"
   ]
  },
  {
   "cell_type": "code",
   "execution_count": 17,
   "id": "1a5ee4f9",
   "metadata": {
    "execution": {
     "iopub.execute_input": "2024-02-27T14:21:41.485734Z",
     "iopub.status.busy": "2024-02-27T14:21:41.485265Z",
     "iopub.status.idle": "2024-02-27T14:21:41.494134Z",
     "shell.execute_reply": "2024-02-27T14:21:41.493045Z"
    },
    "papermill": {
     "duration": 0.022035,
     "end_time": "2024-02-27T14:21:41.496518",
     "exception": false,
     "start_time": "2024-02-27T14:21:41.474483",
     "status": "completed"
    },
    "tags": []
   },
   "outputs": [
    {
     "data": {
      "text/plain": [
       "238    0.70\n",
       "438    0.67\n",
       "475    0.59\n",
       "58     0.36\n",
       "380    0.78\n",
       "       ... \n",
       "255    0.79\n",
       "72     0.93\n",
       "396    0.84\n",
       "235    0.88\n",
       "37     0.58\n",
       "Name: Chance of Admit , Length: 400, dtype: float64"
      ]
     },
     "execution_count": 17,
     "metadata": {},
     "output_type": "execute_result"
    }
   ],
   "source": [
    "y_train"
   ]
  },
  {
   "cell_type": "code",
   "execution_count": 18,
   "id": "dbb085ba",
   "metadata": {
    "execution": {
     "iopub.execute_input": "2024-02-27T14:21:41.518244Z",
     "iopub.status.busy": "2024-02-27T14:21:41.517861Z",
     "iopub.status.idle": "2024-02-27T14:21:41.532135Z",
     "shell.execute_reply": "2024-02-27T14:21:41.530628Z"
    },
    "papermill": {
     "duration": 0.02846,
     "end_time": "2024-02-27T14:21:41.535218",
     "exception": false,
     "start_time": "2024-02-27T14:21:41.506758",
     "status": "completed"
    },
    "tags": []
   },
   "outputs": [],
   "source": [
    "#We scaling down because its spare like in gre score 340 highest while tofel has 120 hightest \n",
    "#so scale down in one range so it will easily converse our model..\n",
    "#here we have upper and lower bound that's why are using the MinMaxScaler so it help to easily converse our model otherwise takes more resourse to converse.\n",
    "\n",
    "from sklearn.preprocessing import MinMaxScaler\n",
    "scaler = MinMaxScaler()\n",
    "\n",
    "X_train_scaled = scaler.fit_transform(X_train)\n",
    "X_test_scaled = scaler.transform(X_test)"
   ]
  },
  {
   "cell_type": "code",
   "execution_count": 19,
   "id": "0be0261b",
   "metadata": {
    "execution": {
     "iopub.execute_input": "2024-02-27T14:21:41.558136Z",
     "iopub.status.busy": "2024-02-27T14:21:41.557765Z",
     "iopub.status.idle": "2024-02-27T14:21:41.565880Z",
     "shell.execute_reply": "2024-02-27T14:21:41.564548Z"
    },
    "papermill": {
     "duration": 0.022531,
     "end_time": "2024-02-27T14:21:41.568524",
     "exception": false,
     "start_time": "2024-02-27T14:21:41.545993",
     "status": "completed"
    },
    "tags": []
   },
   "outputs": [
    {
     "data": {
      "text/plain": [
       "array([[0.4       , 0.42857143, 0.5       , ..., 0.57142857, 0.50320513,\n",
       "        0.        ],\n",
       "       [0.56      , 0.64285714, 0.        , ..., 0.57142857, 0.55769231,\n",
       "        1.        ],\n",
       "       [0.2       , 0.32142857, 0.5       , ..., 0.28571429, 0.34615385,\n",
       "        0.        ],\n",
       "       ...,\n",
       "       [0.7       , 0.53571429, 0.5       , ..., 0.57142857, 0.74038462,\n",
       "        1.        ],\n",
       "       [0.72      , 0.67857143, 1.        , ..., 0.71428571, 0.77884615,\n",
       "        1.        ],\n",
       "       [0.2       , 0.46428571, 0.        , ..., 0.14285714, 0.32051282,\n",
       "        0.        ]])"
      ]
     },
     "execution_count": 19,
     "metadata": {},
     "output_type": "execute_result"
    }
   ],
   "source": [
    "X_train_scaled"
   ]
  },
  {
   "cell_type": "code",
   "execution_count": 20,
   "id": "eb0594cd",
   "metadata": {
    "execution": {
     "iopub.execute_input": "2024-02-27T14:21:41.590683Z",
     "iopub.status.busy": "2024-02-27T14:21:41.590231Z",
     "iopub.status.idle": "2024-02-27T14:21:41.606135Z",
     "shell.execute_reply": "2024-02-27T14:21:41.604486Z"
    },
    "papermill": {
     "duration": 0.030388,
     "end_time": "2024-02-27T14:21:41.609279",
     "exception": false,
     "start_time": "2024-02-27T14:21:41.578891",
     "status": "completed"
    },
    "tags": []
   },
   "outputs": [
    {
     "data": {
      "text/plain": [
       "array([[ 0.46      ,  0.5       ,  0.25      ,  0.375     ,  0.14285714,\n",
       "         0.5224359 ,  0.        ],\n",
       "       [ 0.44      ,  0.53571429,  0.5       ,  0.5       ,  0.42857143,\n",
       "         0.53205128,  1.        ],\n",
       "       [ 0.98      ,  0.96428571,  1.        ,  0.875     ,  0.71428571,\n",
       "         0.92948718,  0.        ],\n",
       "       [ 0.52      ,  0.53571429,  0.25      ,  0.625     ,  0.57142857,\n",
       "         0.58974359,  1.        ],\n",
       "       [ 0.7       ,  0.64285714,  0.75      ,  0.875     ,  0.71428571,\n",
       "         0.69230769,  1.        ],\n",
       "       [ 0.42      ,  0.32142857,  0.25      ,  0.375     ,  0.57142857,\n",
       "         0.49358974,  1.        ],\n",
       "       [ 0.6       ,  0.42857143,  0.5       ,  0.5       ,  0.57142857,\n",
       "         0.62179487,  1.        ],\n",
       "       [ 0.74      ,  0.39285714,  0.5       ,  0.75      ,  0.71428571,\n",
       "         0.48076923,  1.        ],\n",
       "       [ 0.62      ,  0.67857143,  0.5       ,  0.625     ,  0.71428571,\n",
       "         0.65064103,  1.        ],\n",
       "       [ 0.56      ,  0.5       ,  0.25      ,  0.75      ,  0.71428571,\n",
       "         0.35897436,  1.        ],\n",
       "       [ 0.48      ,  0.53571429,  0.25      ,  0.375     ,  0.71428571,\n",
       "         0.47115385,  0.        ],\n",
       "       [ 0.06      ,  0.17857143,  0.25      ,  0.25      ,  0.71428571,\n",
       "         0.32051282,  1.        ],\n",
       "       [ 0.74      ,  0.42857143,  1.        ,  0.5       ,  0.57142857,\n",
       "         0.65384615,  1.        ],\n",
       "       [ 0.74      ,  0.78571429,  0.5       ,  0.5       ,  0.42857143,\n",
       "         0.71153846,  0.        ],\n",
       "       [ 0.62      ,  0.60714286,  0.5       ,  0.625     ,  0.57142857,\n",
       "         0.64102564,  1.        ],\n",
       "       [ 0.68      ,  0.71428571,  1.        ,  1.        ,  1.        ,\n",
       "         0.73076923,  1.        ],\n",
       "       [ 0.32      ,  0.39285714,  0.5       ,  0.625     ,  0.42857143,\n",
       "         0.45192308,  0.        ],\n",
       "       [ 0.46      ,  0.60714286,  0.5       ,  0.75      ,  0.57142857,\n",
       "         0.70512821,  0.        ],\n",
       "       [ 0.82      ,  0.82142857,  1.        ,  0.75      ,  0.57142857,\n",
       "         0.84615385,  1.        ],\n",
       "       [ 0.5       ,  0.46428571,  0.5       ,  0.25      ,  0.28571429,\n",
       "         0.53846154,  0.        ],\n",
       "       [ 0.44      ,  0.21428571,  0.        ,  0.625     ,  0.42857143,\n",
       "         0.44230769,  1.        ],\n",
       "       [ 0.42      ,  0.53571429,  0.75      ,  0.875     ,  0.85714286,\n",
       "         0.70512821,  1.        ],\n",
       "       [ 0.76      ,  0.57142857,  0.75      ,  0.875     ,  0.71428571,\n",
       "         0.76282051,  1.        ],\n",
       "       [ 0.16      ,  0.32142857,  0.75      ,  0.375     ,  0.85714286,\n",
       "         0.28525641,  1.        ],\n",
       "       [ 0.7       ,  0.71428571,  0.75      ,  0.625     ,  0.57142857,\n",
       "         0.67948718,  0.        ],\n",
       "       [ 0.5       ,  0.46428571,  0.25      ,  0.25      ,  0.28571429,\n",
       "         0.2724359 ,  0.        ],\n",
       "       [ 0.82      ,  0.71428571,  1.        ,  0.75      ,  1.        ,\n",
       "         0.96153846,  1.        ],\n",
       "       [ 0.36      ,  0.5       ,  0.5       ,  0.5       ,  0.42857143,\n",
       "         0.46153846,  0.        ],\n",
       "       [ 0.66      ,  0.75      ,  0.75      ,  0.75      ,  0.85714286,\n",
       "         0.77884615,  1.        ],\n",
       "       [ 0.5       ,  0.64285714,  0.25      ,  0.625     ,  0.42857143,\n",
       "         0.53205128,  1.        ],\n",
       "       [ 0.34      ,  0.35714286,  0.5       ,  0.5       ,  0.42857143,\n",
       "         0.47115385,  0.        ],\n",
       "       [ 0.66      ,  0.64285714,  0.5       ,  0.75      ,  0.57142857,\n",
       "         0.73717949,  1.        ],\n",
       "       [ 0.28      ,  0.28571429,  0.25      ,  0.375     ,  0.57142857,\n",
       "         0.40705128,  0.        ],\n",
       "       [ 0.82      ,  0.85714286,  0.75      ,  0.875     ,  0.85714286,\n",
       "         0.84615385,  1.        ],\n",
       "       [ 0.52      ,  0.21428571,  0.        ,  0.125     ,  0.14285714,\n",
       "         0.20192308,  0.        ],\n",
       "       [ 0.72      ,  0.71428571,  0.5       ,  0.625     ,  0.42857143,\n",
       "         0.73717949,  1.        ],\n",
       "       [ 0.6       ,  0.32142857,  0.25      ,  0.375     ,  0.42857143,\n",
       "         0.58333333,  0.        ],\n",
       "       [ 0.48      ,  0.39285714,  0.25      ,  0.25      ,  0.42857143,\n",
       "         0.45192308,  0.        ],\n",
       "       [ 0.5       ,  0.46428571,  0.25      ,  0.5       ,  0.42857143,\n",
       "         0.49358974,  0.        ],\n",
       "       [ 0.88      ,  0.85714286,  0.75      ,  0.75      ,  0.57142857,\n",
       "         0.87820513,  1.        ],\n",
       "       [ 0.18      ,  0.28571429,  0.5       ,  0.25      ,  0.14285714,\n",
       "         0.39102564,  0.        ],\n",
       "       [ 0.42      ,  0.42857143,  0.5       ,  0.75      ,  0.57142857,\n",
       "         0.42628205,  1.        ],\n",
       "       [ 0.56      ,  0.32142857,  1.        ,  0.625     ,  1.        ,\n",
       "         0.63461538,  1.        ],\n",
       "       [ 0.86      ,  0.96428571,  1.        ,  1.        ,  0.85714286,\n",
       "         0.95512821,  1.        ],\n",
       "       [ 0.74      ,  0.75      ,  0.5       ,  0.625     ,  0.42857143,\n",
       "         0.59615385,  1.        ],\n",
       "       [ 0.14      ,  0.14285714,  0.25      ,  0.375     ,  0.        ,\n",
       "         0.34935897,  0.        ],\n",
       "       [ 0.54      ,  0.28571429,  0.25      ,  0.5       ,  0.28571429,\n",
       "         0.56730769,  0.        ],\n",
       "       [ 0.5       ,  0.42857143,  0.5       ,  0.75      ,  0.28571429,\n",
       "         0.41666667,  0.        ],\n",
       "       [ 0.64      ,  0.39285714,  0.75      ,  0.5       ,  0.28571429,\n",
       "         0.39102564,  1.        ],\n",
       "       [ 0.48      ,  0.5       ,  0.25      ,  0.75      ,  0.57142857,\n",
       "         0.46474359,  0.        ],\n",
       "       [ 0.78      ,  0.67857143,  0.75      ,  0.875     ,  0.71428571,\n",
       "         0.70833333,  1.        ],\n",
       "       [ 0.82      ,  0.89285714,  0.75      ,  0.875     ,  1.        ,\n",
       "         0.83974359,  1.        ],\n",
       "       [ 0.8       ,  0.82142857,  1.        ,  0.875     ,  0.42857143,\n",
       "         0.81410256,  1.        ],\n",
       "       [ 0.36      ,  0.35714286,  0.25      ,  0.25      ,  0.57142857,\n",
       "         0.37820513,  1.        ],\n",
       "       [ 0.5       ,  0.32142857,  0.5       ,  0.625     ,  0.85714286,\n",
       "         0.74679487,  0.        ],\n",
       "       [ 0.28      ,  0.46428571,  0.25      ,  0.5       ,  0.42857143,\n",
       "         0.44871795,  1.        ],\n",
       "       [ 0.44      ,  0.53571429,  0.75      ,  0.875     ,  0.71428571,\n",
       "         0.59294872,  1.        ],\n",
       "       [ 0.38      ,  0.5       ,  0.25      ,  0.375     ,  0.28571429,\n",
       "         0.38461538,  0.        ],\n",
       "       [ 0.58      ,  0.5       ,  0.5       ,  0.75      ,  0.42857143,\n",
       "         0.38461538,  1.        ],\n",
       "       [ 0.56      ,  0.53571429,  0.5       ,  0.5       ,  0.57142857,\n",
       "         0.47115385,  1.        ],\n",
       "       [ 0.18      ,  0.07142857,  0.        ,  0.        , -0.14285714,\n",
       "         0.17307692,  0.        ],\n",
       "       [ 0.58      ,  0.39285714,  0.75      ,  0.875     ,  0.57142857,\n",
       "         0.59615385,  0.        ],\n",
       "       [ 0.68      ,  0.28571429,  0.5       ,  0.75      ,  1.        ,\n",
       "         0.58974359,  1.        ],\n",
       "       [ 0.8       ,  0.78571429,  0.75      ,  0.875     ,  0.42857143,\n",
       "         0.75961538,  1.        ],\n",
       "       [ 0.9       ,  0.89285714,  1.        ,  1.        ,  1.        ,\n",
       "         0.96794872,  1.        ],\n",
       "       [ 0.36      ,  0.42857143,  0.25      ,  0.375     ,  0.42857143,\n",
       "         0.40705128,  0.        ],\n",
       "       [ 0.6       ,  0.57142857,  0.5       ,  0.625     ,  0.71428571,\n",
       "         0.52564103,  1.        ],\n",
       "       [ 0.68      ,  0.53571429,  1.        ,  0.625     ,  0.71428571,\n",
       "         0.59615385,  1.        ],\n",
       "       [ 1.        ,  0.71428571,  0.75      ,  1.        ,  0.85714286,\n",
       "         0.91666667,  1.        ],\n",
       "       [ 0.56      ,  0.60714286,  0.5       ,  0.5       ,  0.42857143,\n",
       "         0.54487179,  0.        ],\n",
       "       [ 0.3       ,  0.35714286,  0.25      ,  0.25      ,  0.28571429,\n",
       "         0.44230769,  0.        ],\n",
       "       [ 0.5       ,  0.42857143,  0.5       ,  0.5       ,  0.28571429,\n",
       "         0.49038462,  0.        ],\n",
       "       [ 0.72      ,  0.78571429,  0.5       ,  0.5       ,  0.42857143,\n",
       "         0.74038462,  1.        ],\n",
       "       [ 0.4       ,  0.25      ,  0.25      ,  0.125     ,  0.14285714,\n",
       "         0.16025641,  0.        ],\n",
       "       [ 0.96      ,  0.89285714,  0.75      ,  0.625     ,  0.85714286,\n",
       "         0.8525641 ,  1.        ],\n",
       "       [ 0.28      ,  0.53571429,  0.5       ,  0.625     ,  0.42857143,\n",
       "         0.33974359,  0.        ],\n",
       "       [ 0.84      ,  0.57142857,  1.        ,  0.875     ,  0.71428571,\n",
       "         0.71153846,  1.        ],\n",
       "       [ 0.66      ,  0.67857143,  1.        ,  0.75      ,  1.        ,\n",
       "         0.98076923,  1.        ],\n",
       "       [ 0.6       ,  0.42857143,  0.5       ,  0.5       ,  0.28571429,\n",
       "         0.56730769,  1.        ],\n",
       "       [ 0.48      ,  0.60714286,  0.75      ,  0.625     ,  0.71428571,\n",
       "         0.63141026,  1.        ],\n",
       "       [ 0.74      ,  0.57142857,  1.        ,  1.        ,  0.57142857,\n",
       "         0.74679487,  1.        ],\n",
       "       [ 0.        ,  0.42857143,  0.75      ,  0.25      ,  0.28571429,\n",
       "         0.21153846,  0.        ],\n",
       "       [ 0.9       ,  0.92857143,  1.        ,  0.875     ,  0.57142857,\n",
       "         0.84615385,  1.        ],\n",
       "       [ 0.74      ,  0.5       ,  0.75      ,  0.75      ,  0.85714286,\n",
       "         0.625     ,  1.        ],\n",
       "       [ 0.64      ,  0.64285714,  1.        ,  0.875     ,  0.71428571,\n",
       "         0.69551282,  0.        ],\n",
       "       [ 0.36      ,  0.60714286,  0.25      ,  0.5       ,  0.71428571,\n",
       "         0.52884615,  0.        ],\n",
       "       [ 0.68      ,  0.75      ,  1.        ,  0.75      ,  1.        ,\n",
       "         0.78525641,  1.        ],\n",
       "       [ 0.82      ,  0.85714286,  1.        ,  0.75      ,  0.71428571,\n",
       "         0.78846154,  1.        ],\n",
       "       [ 0.14      ,  0.25      ,  0.75      ,  0.5       ,  0.57142857,\n",
       "         0.32371795,  0.        ],\n",
       "       [ 0.28      ,  0.42857143,  0.5       ,  0.375     ,  0.14285714,\n",
       "         0.42307692,  0.        ],\n",
       "       [ 0.38      ,  0.46428571,  0.75      ,  0.625     ,  0.14285714,\n",
       "         0.44230769,  0.        ],\n",
       "       [ 0.62      ,  0.35714286,  0.5       ,  0.625     ,  0.71428571,\n",
       "         0.70833333,  1.        ],\n",
       "       [ 0.52      ,  0.39285714,  0.5       ,  0.625     ,  0.14285714,\n",
       "         0.28205128,  0.        ],\n",
       "       [ 0.62      ,  0.60714286,  0.5       ,  0.5       ,  0.71428571,\n",
       "         0.44871795,  1.        ],\n",
       "       [ 0.64      ,  0.71428571,  0.75      ,  0.625     ,  0.28571429,\n",
       "         0.71153846,  1.        ],\n",
       "       [ 0.74      ,  0.67857143,  0.75      ,  0.75      ,  0.85714286,\n",
       "         0.70512821,  1.        ],\n",
       "       [ 0.64      ,  0.78571429,  1.        ,  0.875     ,  0.71428571,\n",
       "         0.68589744,  1.        ],\n",
       "       [ 0.16      ,  0.21428571,  0.25      ,  0.75      ,  0.42857143,\n",
       "         0.39423077,  0.        ],\n",
       "       [ 0.52      ,  0.64285714,  0.5       ,  0.625     ,  0.71428571,\n",
       "         0.56410256,  0.        ],\n",
       "       [ 0.3       ,  0.57142857,  1.        ,  0.5       ,  0.42857143,\n",
       "         0.53846154,  0.        ]])"
      ]
     },
     "execution_count": 20,
     "metadata": {},
     "output_type": "execute_result"
    }
   ],
   "source": [
    "X_test_scaled"
   ]
  },
  {
   "cell_type": "code",
   "execution_count": 21,
   "id": "e15e9c24",
   "metadata": {
    "execution": {
     "iopub.execute_input": "2024-02-27T14:21:41.631970Z",
     "iopub.status.busy": "2024-02-27T14:21:41.630635Z",
     "iopub.status.idle": "2024-02-27T14:21:59.011004Z",
     "shell.execute_reply": "2024-02-27T14:21:59.009483Z"
    },
    "papermill": {
     "duration": 17.395066,
     "end_time": "2024-02-27T14:21:59.014227",
     "exception": false,
     "start_time": "2024-02-27T14:21:41.619161",
     "status": "completed"
    },
    "tags": []
   },
   "outputs": [
    {
     "name": "stderr",
     "output_type": "stream",
     "text": [
      "2024-02-27 14:21:44.328720: E external/local_xla/xla/stream_executor/cuda/cuda_dnn.cc:9261] Unable to register cuDNN factory: Attempting to register factory for plugin cuDNN when one has already been registered\n",
      "2024-02-27 14:21:44.328882: E external/local_xla/xla/stream_executor/cuda/cuda_fft.cc:607] Unable to register cuFFT factory: Attempting to register factory for plugin cuFFT when one has already been registered\n",
      "2024-02-27 14:21:44.508877: E external/local_xla/xla/stream_executor/cuda/cuda_blas.cc:1515] Unable to register cuBLAS factory: Attempting to register factory for plugin cuBLAS when one has already been registered\n"
     ]
    }
   ],
   "source": [
    "import tensorflow\n",
    "from tensorflow import keras\n",
    "from keras import Sequential\n",
    "from keras.layers import Dense"
   ]
  },
  {
   "cell_type": "code",
   "execution_count": 22,
   "id": "058e7947",
   "metadata": {
    "execution": {
     "iopub.execute_input": "2024-02-27T14:21:59.041043Z",
     "iopub.status.busy": "2024-02-27T14:21:59.039013Z",
     "iopub.status.idle": "2024-02-27T14:21:59.215456Z",
     "shell.execute_reply": "2024-02-27T14:21:59.214278Z"
    },
    "papermill": {
     "duration": 0.190812,
     "end_time": "2024-02-27T14:21:59.218530",
     "exception": false,
     "start_time": "2024-02-27T14:21:59.027718",
     "status": "completed"
    },
    "tags": []
   },
   "outputs": [],
   "source": [
    "model = Sequential()\n",
    "\n",
    "model.add(Dense(7,activation='relu',input_dim=7))\n",
    "model.add(Dense(7,activation='relu'))\n",
    "model.add(Dense(1,activation='linear'))"
   ]
  },
  {
   "cell_type": "code",
   "execution_count": 23,
   "id": "3899262d",
   "metadata": {
    "execution": {
     "iopub.execute_input": "2024-02-27T14:21:59.246562Z",
     "iopub.status.busy": "2024-02-27T14:21:59.245543Z",
     "iopub.status.idle": "2024-02-27T14:21:59.272305Z",
     "shell.execute_reply": "2024-02-27T14:21:59.270817Z"
    },
    "papermill": {
     "duration": 0.041157,
     "end_time": "2024-02-27T14:21:59.274529",
     "exception": false,
     "start_time": "2024-02-27T14:21:59.233372",
     "status": "completed"
    },
    "tags": []
   },
   "outputs": [
    {
     "name": "stdout",
     "output_type": "stream",
     "text": [
      "Model: \"sequential\"\n",
      "_________________________________________________________________\n",
      " Layer (type)                Output Shape              Param #   \n",
      "=================================================================\n",
      " dense (Dense)               (None, 7)                 56        \n",
      "                                                                 \n",
      " dense_1 (Dense)             (None, 7)                 56        \n",
      "                                                                 \n",
      " dense_2 (Dense)             (None, 1)                 8         \n",
      "                                                                 \n",
      "=================================================================\n",
      "Total params: 120 (480.00 Byte)\n",
      "Trainable params: 120 (480.00 Byte)\n",
      "Non-trainable params: 0 (0.00 Byte)\n",
      "_________________________________________________________________\n"
     ]
    }
   ],
   "source": [
    "model.summary()"
   ]
  },
  {
   "cell_type": "code",
   "execution_count": 24,
   "id": "14f521c6",
   "metadata": {
    "execution": {
     "iopub.execute_input": "2024-02-27T14:21:59.297588Z",
     "iopub.status.busy": "2024-02-27T14:21:59.297224Z",
     "iopub.status.idle": "2024-02-27T14:21:59.319856Z",
     "shell.execute_reply": "2024-02-27T14:21:59.318645Z"
    },
    "papermill": {
     "duration": 0.037663,
     "end_time": "2024-02-27T14:21:59.322549",
     "exception": false,
     "start_time": "2024-02-27T14:21:59.284886",
     "status": "completed"
    },
    "tags": []
   },
   "outputs": [],
   "source": [
    "model.compile(loss='mean_squared_error', optimizer='Adam')"
   ]
  },
  {
   "cell_type": "code",
   "execution_count": 25,
   "id": "f42b5a8d",
   "metadata": {
    "execution": {
     "iopub.execute_input": "2024-02-27T14:21:59.345277Z",
     "iopub.status.busy": "2024-02-27T14:21:59.344906Z",
     "iopub.status.idle": "2024-02-27T14:22:06.248387Z",
     "shell.execute_reply": "2024-02-27T14:22:06.247185Z"
    },
    "papermill": {
     "duration": 6.917667,
     "end_time": "2024-02-27T14:22:06.250831",
     "exception": false,
     "start_time": "2024-02-27T14:21:59.333164",
     "status": "completed"
    },
    "tags": []
   },
   "outputs": [
    {
     "name": "stdout",
     "output_type": "stream",
     "text": [
      "Epoch 1/101\n",
      "10/10 [==============================] - 1s 29ms/step - loss: 0.1206 - val_loss: 0.0666\n",
      "Epoch 2/101\n",
      "10/10 [==============================] - 0s 6ms/step - loss: 0.0398 - val_loss: 0.0189\n",
      "Epoch 3/101\n",
      "10/10 [==============================] - 0s 7ms/step - loss: 0.0182 - val_loss: 0.0160\n",
      "Epoch 4/101\n",
      "10/10 [==============================] - 0s 6ms/step - loss: 0.0168 - val_loss: 0.0132\n",
      "Epoch 5/101\n",
      "10/10 [==============================] - 0s 5ms/step - loss: 0.0135 - val_loss: 0.0114\n",
      "Epoch 6/101\n",
      "10/10 [==============================] - 0s 6ms/step - loss: 0.0128 - val_loss: 0.0112\n",
      "Epoch 7/101\n",
      "10/10 [==============================] - 0s 5ms/step - loss: 0.0122 - val_loss: 0.0105\n",
      "Epoch 8/101\n",
      "10/10 [==============================] - 0s 6ms/step - loss: 0.0116 - val_loss: 0.0100\n",
      "Epoch 9/101\n",
      "10/10 [==============================] - 0s 6ms/step - loss: 0.0111 - val_loss: 0.0096\n",
      "Epoch 10/101\n",
      "10/10 [==============================] - 0s 5ms/step - loss: 0.0107 - val_loss: 0.0092\n",
      "Epoch 11/101\n",
      "10/10 [==============================] - 0s 6ms/step - loss: 0.0102 - val_loss: 0.0089\n",
      "Epoch 12/101\n",
      "10/10 [==============================] - 0s 6ms/step - loss: 0.0098 - val_loss: 0.0085\n",
      "Epoch 13/101\n",
      "10/10 [==============================] - 0s 5ms/step - loss: 0.0094 - val_loss: 0.0081\n",
      "Epoch 14/101\n",
      "10/10 [==============================] - 0s 5ms/step - loss: 0.0090 - val_loss: 0.0078\n",
      "Epoch 15/101\n",
      "10/10 [==============================] - 0s 6ms/step - loss: 0.0088 - val_loss: 0.0075\n",
      "Epoch 16/101\n",
      "10/10 [==============================] - 0s 6ms/step - loss: 0.0085 - val_loss: 0.0072\n",
      "Epoch 17/101\n",
      "10/10 [==============================] - 0s 6ms/step - loss: 0.0082 - val_loss: 0.0071\n",
      "Epoch 18/101\n",
      "10/10 [==============================] - 0s 8ms/step - loss: 0.0079 - val_loss: 0.0068\n",
      "Epoch 19/101\n",
      "10/10 [==============================] - 0s 5ms/step - loss: 0.0076 - val_loss: 0.0066\n",
      "Epoch 20/101\n",
      "10/10 [==============================] - 0s 5ms/step - loss: 0.0074 - val_loss: 0.0065\n",
      "Epoch 21/101\n",
      "10/10 [==============================] - 0s 6ms/step - loss: 0.0072 - val_loss: 0.0062\n",
      "Epoch 22/101\n",
      "10/10 [==============================] - 0s 7ms/step - loss: 0.0070 - val_loss: 0.0061\n",
      "Epoch 23/101\n",
      "10/10 [==============================] - 0s 6ms/step - loss: 0.0069 - val_loss: 0.0060\n",
      "Epoch 24/101\n",
      "10/10 [==============================] - 0s 5ms/step - loss: 0.0067 - val_loss: 0.0057\n",
      "Epoch 25/101\n",
      "10/10 [==============================] - 0s 5ms/step - loss: 0.0065 - val_loss: 0.0057\n",
      "Epoch 26/101\n",
      "10/10 [==============================] - 0s 5ms/step - loss: 0.0063 - val_loss: 0.0056\n",
      "Epoch 27/101\n",
      "10/10 [==============================] - 0s 5ms/step - loss: 0.0063 - val_loss: 0.0053\n",
      "Epoch 28/101\n",
      "10/10 [==============================] - 0s 7ms/step - loss: 0.0061 - val_loss: 0.0054\n",
      "Epoch 29/101\n",
      "10/10 [==============================] - 0s 8ms/step - loss: 0.0060 - val_loss: 0.0053\n",
      "Epoch 30/101\n",
      "10/10 [==============================] - 0s 5ms/step - loss: 0.0058 - val_loss: 0.0051\n",
      "Epoch 31/101\n",
      "10/10 [==============================] - 0s 5ms/step - loss: 0.0057 - val_loss: 0.0051\n",
      "Epoch 32/101\n",
      "10/10 [==============================] - 0s 7ms/step - loss: 0.0056 - val_loss: 0.0049\n",
      "Epoch 33/101\n",
      "10/10 [==============================] - 0s 6ms/step - loss: 0.0055 - val_loss: 0.0049\n",
      "Epoch 34/101\n",
      "10/10 [==============================] - 0s 6ms/step - loss: 0.0054 - val_loss: 0.0048\n",
      "Epoch 35/101\n",
      "10/10 [==============================] - 0s 6ms/step - loss: 0.0053 - val_loss: 0.0047\n",
      "Epoch 36/101\n",
      "10/10 [==============================] - 0s 6ms/step - loss: 0.0052 - val_loss: 0.0046\n",
      "Epoch 37/101\n",
      "10/10 [==============================] - 0s 6ms/step - loss: 0.0052 - val_loss: 0.0046\n",
      "Epoch 38/101\n",
      "10/10 [==============================] - 0s 5ms/step - loss: 0.0051 - val_loss: 0.0046\n",
      "Epoch 39/101\n",
      "10/10 [==============================] - 0s 5ms/step - loss: 0.0051 - val_loss: 0.0044\n",
      "Epoch 40/101\n",
      "10/10 [==============================] - 0s 6ms/step - loss: 0.0050 - val_loss: 0.0045\n",
      "Epoch 41/101\n",
      "10/10 [==============================] - 0s 6ms/step - loss: 0.0049 - val_loss: 0.0044\n",
      "Epoch 42/101\n",
      "10/10 [==============================] - 0s 6ms/step - loss: 0.0049 - val_loss: 0.0043\n",
      "Epoch 43/101\n",
      "10/10 [==============================] - 0s 6ms/step - loss: 0.0049 - val_loss: 0.0044\n",
      "Epoch 44/101\n",
      "10/10 [==============================] - 0s 5ms/step - loss: 0.0048 - val_loss: 0.0042\n",
      "Epoch 45/101\n",
      "10/10 [==============================] - 0s 7ms/step - loss: 0.0048 - val_loss: 0.0042\n",
      "Epoch 46/101\n",
      "10/10 [==============================] - 0s 7ms/step - loss: 0.0047 - val_loss: 0.0043\n",
      "Epoch 47/101\n",
      "10/10 [==============================] - 0s 6ms/step - loss: 0.0047 - val_loss: 0.0042\n",
      "Epoch 48/101\n",
      "10/10 [==============================] - 0s 6ms/step - loss: 0.0046 - val_loss: 0.0041\n",
      "Epoch 49/101\n",
      "10/10 [==============================] - 0s 7ms/step - loss: 0.0046 - val_loss: 0.0041\n",
      "Epoch 50/101\n",
      "10/10 [==============================] - 0s 5ms/step - loss: 0.0045 - val_loss: 0.0040\n",
      "Epoch 51/101\n",
      "10/10 [==============================] - 0s 5ms/step - loss: 0.0045 - val_loss: 0.0041\n",
      "Epoch 52/101\n",
      "10/10 [==============================] - 0s 5ms/step - loss: 0.0045 - val_loss: 0.0039\n",
      "Epoch 53/101\n",
      "10/10 [==============================] - 0s 4ms/step - loss: 0.0045 - val_loss: 0.0040\n",
      "Epoch 54/101\n",
      "10/10 [==============================] - 0s 5ms/step - loss: 0.0044 - val_loss: 0.0039\n",
      "Epoch 55/101\n",
      "10/10 [==============================] - 0s 6ms/step - loss: 0.0044 - val_loss: 0.0040\n",
      "Epoch 56/101\n",
      "10/10 [==============================] - 0s 5ms/step - loss: 0.0044 - val_loss: 0.0039\n",
      "Epoch 57/101\n",
      "10/10 [==============================] - 0s 4ms/step - loss: 0.0043 - val_loss: 0.0040\n",
      "Epoch 58/101\n",
      "10/10 [==============================] - 0s 4ms/step - loss: 0.0043 - val_loss: 0.0039\n",
      "Epoch 59/101\n",
      "10/10 [==============================] - 0s 4ms/step - loss: 0.0043 - val_loss: 0.0038\n",
      "Epoch 60/101\n",
      "10/10 [==============================] - 0s 4ms/step - loss: 0.0043 - val_loss: 0.0039\n",
      "Epoch 61/101\n",
      "10/10 [==============================] - 0s 5ms/step - loss: 0.0042 - val_loss: 0.0038\n",
      "Epoch 62/101\n",
      "10/10 [==============================] - 0s 5ms/step - loss: 0.0042 - val_loss: 0.0038\n",
      "Epoch 63/101\n",
      "10/10 [==============================] - 0s 7ms/step - loss: 0.0042 - val_loss: 0.0038\n",
      "Epoch 64/101\n",
      "10/10 [==============================] - 0s 6ms/step - loss: 0.0042 - val_loss: 0.0037\n",
      "Epoch 65/101\n",
      "10/10 [==============================] - 0s 6ms/step - loss: 0.0042 - val_loss: 0.0038\n",
      "Epoch 66/101\n",
      "10/10 [==============================] - 0s 5ms/step - loss: 0.0042 - val_loss: 0.0037\n",
      "Epoch 67/101\n",
      "10/10 [==============================] - 0s 4ms/step - loss: 0.0041 - val_loss: 0.0037\n",
      "Epoch 68/101\n",
      "10/10 [==============================] - 0s 4ms/step - loss: 0.0041 - val_loss: 0.0037\n",
      "Epoch 69/101\n",
      "10/10 [==============================] - 0s 5ms/step - loss: 0.0041 - val_loss: 0.0037\n",
      "Epoch 70/101\n",
      "10/10 [==============================] - 0s 5ms/step - loss: 0.0041 - val_loss: 0.0037\n",
      "Epoch 71/101\n",
      "10/10 [==============================] - 0s 6ms/step - loss: 0.0040 - val_loss: 0.0037\n",
      "Epoch 72/101\n",
      "10/10 [==============================] - 0s 5ms/step - loss: 0.0041 - val_loss: 0.0037\n",
      "Epoch 73/101\n",
      "10/10 [==============================] - 0s 6ms/step - loss: 0.0040 - val_loss: 0.0037\n",
      "Epoch 74/101\n",
      "10/10 [==============================] - 0s 7ms/step - loss: 0.0040 - val_loss: 0.0036\n",
      "Epoch 75/101\n",
      "10/10 [==============================] - 0s 6ms/step - loss: 0.0040 - val_loss: 0.0036\n",
      "Epoch 76/101\n",
      "10/10 [==============================] - 0s 5ms/step - loss: 0.0040 - val_loss: 0.0036\n",
      "Epoch 77/101\n",
      "10/10 [==============================] - 0s 5ms/step - loss: 0.0040 - val_loss: 0.0036\n",
      "Epoch 78/101\n",
      "10/10 [==============================] - 0s 5ms/step - loss: 0.0040 - val_loss: 0.0036\n",
      "Epoch 79/101\n",
      "10/10 [==============================] - 0s 6ms/step - loss: 0.0039 - val_loss: 0.0037\n",
      "Epoch 80/101\n",
      "10/10 [==============================] - 0s 6ms/step - loss: 0.0039 - val_loss: 0.0036\n",
      "Epoch 81/101\n",
      "10/10 [==============================] - 0s 6ms/step - loss: 0.0039 - val_loss: 0.0036\n",
      "Epoch 82/101\n",
      "10/10 [==============================] - 0s 6ms/step - loss: 0.0039 - val_loss: 0.0035\n",
      "Epoch 83/101\n",
      "10/10 [==============================] - 0s 5ms/step - loss: 0.0039 - val_loss: 0.0036\n",
      "Epoch 84/101\n",
      "10/10 [==============================] - 0s 6ms/step - loss: 0.0039 - val_loss: 0.0035\n",
      "Epoch 85/101\n",
      "10/10 [==============================] - 0s 6ms/step - loss: 0.0039 - val_loss: 0.0036\n",
      "Epoch 86/101\n",
      "10/10 [==============================] - 0s 6ms/step - loss: 0.0039 - val_loss: 0.0036\n",
      "Epoch 87/101\n",
      "10/10 [==============================] - 0s 5ms/step - loss: 0.0038 - val_loss: 0.0035\n",
      "Epoch 88/101\n",
      "10/10 [==============================] - 0s 5ms/step - loss: 0.0039 - val_loss: 0.0035\n",
      "Epoch 89/101\n",
      "10/10 [==============================] - 0s 6ms/step - loss: 0.0039 - val_loss: 0.0036\n",
      "Epoch 90/101\n",
      "10/10 [==============================] - 0s 4ms/step - loss: 0.0040 - val_loss: 0.0035\n",
      "Epoch 91/101\n",
      "10/10 [==============================] - 0s 5ms/step - loss: 0.0039 - val_loss: 0.0036\n",
      "Epoch 92/101\n",
      "10/10 [==============================] - 0s 5ms/step - loss: 0.0038 - val_loss: 0.0035\n",
      "Epoch 93/101\n",
      "10/10 [==============================] - 0s 6ms/step - loss: 0.0039 - val_loss: 0.0035\n",
      "Epoch 94/101\n",
      "10/10 [==============================] - 0s 5ms/step - loss: 0.0038 - val_loss: 0.0035\n",
      "Epoch 95/101\n",
      "10/10 [==============================] - 0s 4ms/step - loss: 0.0038 - val_loss: 0.0035\n",
      "Epoch 96/101\n",
      "10/10 [==============================] - 0s 5ms/step - loss: 0.0038 - val_loss: 0.0035\n",
      "Epoch 97/101\n",
      "10/10 [==============================] - 0s 5ms/step - loss: 0.0038 - val_loss: 0.0035\n",
      "Epoch 98/101\n",
      "10/10 [==============================] - 0s 5ms/step - loss: 0.0038 - val_loss: 0.0035\n",
      "Epoch 99/101\n",
      "10/10 [==============================] - 0s 4ms/step - loss: 0.0038 - val_loss: 0.0035\n",
      "Epoch 100/101\n",
      "10/10 [==============================] - 0s 4ms/step - loss: 0.0038 - val_loss: 0.0035\n",
      "Epoch 101/101\n",
      "10/10 [==============================] - 0s 5ms/step - loss: 0.0038 - val_loss: 0.0035\n"
     ]
    }
   ],
   "source": [
    "history = model.fit(X_train_scaled,y_train, epochs=101,validation_split=0.2)"
   ]
  },
  {
   "cell_type": "code",
   "execution_count": 26,
   "id": "9e0785a3",
   "metadata": {
    "execution": {
     "iopub.execute_input": "2024-02-27T14:22:06.312349Z",
     "iopub.status.busy": "2024-02-27T14:22:06.311959Z",
     "iopub.status.idle": "2024-02-27T14:22:06.476876Z",
     "shell.execute_reply": "2024-02-27T14:22:06.475874Z"
    },
    "papermill": {
     "duration": 0.199152,
     "end_time": "2024-02-27T14:22:06.479410",
     "exception": false,
     "start_time": "2024-02-27T14:22:06.280258",
     "status": "completed"
    },
    "tags": []
   },
   "outputs": [
    {
     "name": "stdout",
     "output_type": "stream",
     "text": [
      "4/4 [==============================] - 0s 2ms/step\n"
     ]
    }
   ],
   "source": [
    "y_pred = model.predict(X_test_scaled)"
   ]
  },
  {
   "cell_type": "code",
   "execution_count": 27,
   "id": "917b9d52",
   "metadata": {
    "execution": {
     "iopub.execute_input": "2024-02-27T14:22:06.539612Z",
     "iopub.status.busy": "2024-02-27T14:22:06.539261Z",
     "iopub.status.idle": "2024-02-27T14:22:06.547558Z",
     "shell.execute_reply": "2024-02-27T14:22:06.546444Z"
    },
    "papermill": {
     "duration": 0.041066,
     "end_time": "2024-02-27T14:22:06.549614",
     "exception": false,
     "start_time": "2024-02-27T14:22:06.508548",
     "status": "completed"
    },
    "tags": []
   },
   "outputs": [
    {
     "data": {
      "text/plain": [
       "0.7914508250936051"
      ]
     },
     "execution_count": 27,
     "metadata": {},
     "output_type": "execute_result"
    }
   ],
   "source": [
    "from sklearn.metrics import r2_score\n",
    "r2_score(y_test,y_pred)"
   ]
  },
  {
   "cell_type": "code",
   "execution_count": 28,
   "id": "92f9da67",
   "metadata": {
    "execution": {
     "iopub.execute_input": "2024-02-27T14:22:06.611527Z",
     "iopub.status.busy": "2024-02-27T14:22:06.610556Z",
     "iopub.status.idle": "2024-02-27T14:22:06.837510Z",
     "shell.execute_reply": "2024-02-27T14:22:06.836476Z"
    },
    "papermill": {
     "duration": 0.260703,
     "end_time": "2024-02-27T14:22:06.839901",
     "exception": false,
     "start_time": "2024-02-27T14:22:06.579198",
     "status": "completed"
    },
    "tags": []
   },
   "outputs": [
    {
     "data": {
      "text/plain": [
       "[<matplotlib.lines.Line2D at 0x7c24f6f942b0>]"
      ]
     },
     "execution_count": 28,
     "metadata": {},
     "output_type": "execute_result"
    },
    {
     "data": {
      "image/png": "[encoded data removed]",
      "text/plain": [
       "<Figure size 640x480 with 1 Axes>"
      ]
     },
     "metadata": {},
     "output_type": "display_data"
    }
   ],
   "source": [
    "import matplotlib.pyplot as plt\n",
    "plt.plot(history.history['loss'])\n",
    "plt.plot(history.history['val_loss'])"
   ]
  }
 ],
 "metadata": {
  "kaggle": {
   "accelerator": "none",
   "dataSources": [
    {
     "datasetId": 14872,
     "sourceId": 228180,
     "sourceType": "datasetVersion"
    }
   ],
   "dockerImageVersionId": 30646,
   "isGpuEnabled": false,
   "isInternetEnabled": true,
   "language": "python",
   "sourceType": "notebook"
  },
  "kernelspec": {
   "display_name": "Python 3",
   "language": "python",
   "name": "python3"
  },
  "language_info": {
   "codemirror_mode": {
    "name": "ipython",
    "version": 3
   },
   "file_extension": ".py",
   "mimetype": "text/x-python",
   "name": "python",
   "nbconvert_exporter": "python",
   "pygments_lexer": "ipython3",
   "version": "3.10.13"
  },
  "papermill": {
   "default_parameters": {},
   "duration": 34.278318,
   "end_time": "2024-02-27T14:22:09.312217",
   "environment_variables": {},
   "exception": null,
   "input_path": "__notebook__.ipynb",
   "output_path": "__notebook__.ipynb",
   "parameters": {},
   "start_time": "2024-02-27T14:21:35.033899",
   "version": "2.5.0"
  }
 },
 "nbformat": 4,
 "nbformat_minor": 5
}
